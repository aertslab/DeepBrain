{
 "cells": [
  {
   "cell_type": "markdown",
   "metadata": {},
   "source": [
    "# Enhancer - BC for in vitro saturation mutagenesis in pSA351 5' BC"
   ]
  },
  {
   "cell_type": "markdown",
   "metadata": {},
   "source": [
    "In this notebook we will use the enhancer-barcode assignment sequencing data to assign each MPRA barcode to an enhancer. In R1 the enhancer barcode is sequenced, in R2 the MPRA barcode is sequenced. Importantly, with **MPRA barcode** we refer to the random barcode in the transcript (17bp), with **enhancer barcode** we refer to the barcode attached to the 5' of the enhancer sequence when designing the library (11 bp)."
   ]
  },
  {
   "cell_type": "markdown",
   "metadata": {},
   "source": [
    "Create the directory to put the results and move to work there:"
   ]
  },
  {
   "cell_type": "code",
   "execution_count": 2,
   "metadata": {},
   "outputs": [],
   "source": [
    "mkdir -p {path-to-dir}\n",
    "cd {path-to-dir}"
   ]
  },
  {
   "cell_type": "markdown",
   "metadata": {},
   "source": [
    "Load the modules that we need:"
   ]
  },
  {
   "cell_type": "code",
   "execution_count": null,
   "metadata": {},
   "outputs": [],
   "source": [
    "module load FastQC/0.11.9-Java-11\n",
    "module load cutadapt/4.2\n",
    "module load SeqKit/2.4.0\n",
    "module load fastp/0.23.2-GCC-10.3.0\n",
    "module load Python/3.7.4-foss-2018a"
   ]
  },
  {
   "cell_type": "markdown",
   "metadata": {},
   "source": [
    "Set the path to the sequencing data and scripts:"
   ]
  },
  {
   "cell_type": "code",
   "execution_count": 4,
   "metadata": {},
   "outputs": [],
   "source": [
    "path_raw={path-to-data}\n",
    "path_scripts={path-to-scripts}"
   ]
  },
  {
   "cell_type": "markdown",
   "metadata": {},
   "source": [
    "## Step 1: Fastqc"
   ]
  },
  {
   "cell_type": "markdown",
   "metadata": {},
   "source": [
    "In this step we will run fastqc to get some statistics on the sequencing quality. This will create html in the output folder, including quality per base pair, GC content and duplication levels."
   ]
  },
  {
   "cell_type": "code",
   "execution_count": null,
   "metadata": {
    "scrolled": true
   },
   "outputs": [],
   "source": [
    "mkdir 01.fastqc\n",
    "fastqc ${path_raw}MGE_* -o 01.fastqc"
   ]
  },
  {
   "cell_type": "markdown",
   "metadata": {},
   "source": [
    "## Step 2: Removing adapter sequences and finding barcodes"
   ]
  },
  {
   "cell_type": "markdown",
   "metadata": {
    "tags": []
   },
   "source": [
    "Next we have to retrieve the enhancer barcode and the MPRA barcode from the reads. From R1 we will retrieve the enhancer barcode. For that, we need to identify the reads containing the 5' adapter (TCCCCAGTGCAAGTGCAG), trim it, and retrieve the first 11 bp, which correspoond to the enhancer barcode. The parameter we need to provide to cutadapt are:\n",
    "* -g: The adapter sequence (in this case, TCCCCAGTGCAAGTGCAG)\n",
    "* -j: The number of cores to use (e.g. 10)\n",
    "* --discard-untrimmed: Discard reads that do not contain the adapter or do not pass filters\n",
    "* -m: Minimal sequence length after removing the adapter (in this case, 11)\n",
    "* -l: Keep the first X bp of the sequence (in this case, 11; the enhancer barcode sequence)\n",
    "* -o: output directory"
   ]
  },
  {
   "cell_type": "code",
   "execution_count": null,
   "metadata": {
    "scrolled": true
   },
   "outputs": [],
   "source": [
    "mkdir 02.clean_reads\n",
    "for file in ${path_raw}*_R1*.fastq.gz\n",
    "do\n",
    "    file_name=`basename ${file}`\n",
    "    file_tag=${file_name%.fastq.gz}\n",
    "    echo $file_tag\n",
    "    cutadapt -g TCCCCAGTGCAAGTGCAG -j 10 --discard-untrimmed -m 11 -l 11  \\\n",
    "             -o 02.clean_reads/${file_tag}.clean.fastq.gz ${path_raw}${file_name}\n",
    "done"
   ]
  },
  {
   "cell_type": "markdown",
   "metadata": {},
   "source": [
    "Now we have to retrive the MPRA barcode from R2. In this case the adapter is CTGGCCCTCGCAGACA...GATCGGCGCGCCGGTCC and the barcode length is 17bp. We will also write the reverse complement sequence. The parameters for cutadapt here are:\n",
    "* -g: The adapter sequence (in this case, CTGGCCCTCGCAGACA...GATCGGCGCGCCGGTCC)\n",
    "* -j: The number of cores to use (e.g. 10)\n",
    "* --discard-untrimmed: Discard reads that do not contain the adapter or do not pass filters\n",
    "* -m: Minimal sequence length after removing the adapter (in this case, 17)\n",
    "* -M: Maximum sequence length after removing the adapter (in this case, 17)\n",
    "* -o: output directory"
   ]
  },
  {
   "cell_type": "code",
   "execution_count": null,
   "metadata": {
    "scrolled": true,
    "tags": []
   },
   "outputs": [],
   "source": [
    "for file in ${path_raw}*_R2*.fastq.gz\n",
    "do\n",
    "    file_name=`basename ${file}`\n",
    "    file_tag=${file_name%.fastq.gz}\n",
    "    echo $file_tag\n",
    "    cutadapt -g CTGGCCCTCGCAGACA...GATCGGCGCGCCGGTCC -j 10 --discard-untrimmed -m 17 -M 17 \\\n",
    "        ${file} |\\\n",
    "        seqkit seq -r -p -o 02.clean_reads/${file_tag}.clean.fastq.gz\n",
    "done"
   ]
  },
  {
   "cell_type": "markdown",
   "metadata": {},
   "source": [
    "Finally, we will keep only sequences with quality above 30."
   ]
  },
  {
   "cell_type": "code",
   "execution_count": null,
   "metadata": {
    "scrolled": true
   },
   "outputs": [],
   "source": [
    "for file in 02.clean_reads/*.clean.fastq.gz\n",
    "do\n",
    "echo ${file##*/}\n",
    "fastp -e 30 --disable_length_filtering -h /dev/null/fastp.html -j /dev/null/fastp.json -w 8 \\\n",
    "      -o ${file%_*}_Q30.fastq.gz \\\n",
    "      -i $file\n",
    "done"
   ]
  },
  {
   "cell_type": "markdown",
   "metadata": {},
   "source": [
    "We can also show some stats from this files, for example here we are printing:\n",
    "* The total number of reads\n",
    "* The number of unique reads\n",
    "* The percentage of unique reads\n",
    "* The most common sequence\n",
    "* The number of times the most common sequence occurs\n",
    "* The frequency of the most common sequence"
   ]
  },
  {
   "cell_type": "code",
   "execution_count": null,
   "metadata": {},
   "outputs": [],
   "source": [
    "module load mawk/1.3.4-20200120-foss-2018a\n",
    "for i in 02.clean_reads/*_Q30.fastq.gz\n",
    "do\n",
    "file=${i#*/}\n",
    "zcat $i | \\\n",
    "mawk -v 'OFS=\\t' -v filename=\"${file%_combined*}\" '\n",
    "{\n",
    "    # Only look at each sequence line\n",
    "    if (NR%4==2) {\n",
    "        read = $1\n",
    "        # Add 1 to current read counter.\n",
    "        counts[read] += 1\n",
    "        # Count total number of reads seen so far.\n",
    "        total_reads += 1\n",
    "    }\n",
    "}\n",
    "\n",
    "END {\n",
    "    for (read in counts) {\n",
    "        if (counts[read] > max) {\n",
    "            max = counts[read]\n",
    "            max_readname = read\n",
    "        }\n",
    "    }\n",
    "    unique_reads = length(counts)\n",
    "    print filename, total_reads, unique_reads, (unique_reads * 100 / total_reads) \"%\", max_readname, max, (max * 100 / total_reads) \"%\"\n",
    "}\n",
    "' \\\n",
    "   | column -t\n",
    "done"
   ]
  },
  {
   "cell_type": "markdown",
   "metadata": {},
   "source": [
    "## Step 3: Assigning MPRA barcodes to enhancer barcodes"
   ]
  },
  {
   "cell_type": "code",
   "execution_count": 14,
   "metadata": {},
   "outputs": [],
   "source": [
    "rm -rf 03.enhancer_bc_assignment\n",
    "mkdir 03.enhancer_bc_assignment"
   ]
  },
  {
   "cell_type": "markdown",
   "metadata": {},
   "source": [
    "First we will reformat the enhancer barcodes fastq file to a table containing Read ID and enhancer barcode."
   ]
  },
  {
   "cell_type": "code",
   "execution_count": null,
   "metadata": {},
   "outputs": [],
   "source": [
    "module load mawk/1.3.4-20200120-foss-2018a\n",
    "for file in 02.clean_reads/*_R1_Q30.fastq.gz\n",
    "do\n",
    "echo ${file}\n",
    "file_name=`basename ${file}`\n",
    "file_tag=${file_name%_R1_Q30.fastq.gz}\n",
    "paste \\\n",
    "   <( zcat ${file} | mawk 'NR%4==1{print substr($1,2)}' ) \\\n",
    "   <( zcat ${file} | mawk 'NR%4==2' ) \\\n",
    "   | sort -k1 \\\n",
    "   | gzip -c \\\n",
    "   > 03.enhancer_bc_assignment/${file_tag}_readID_enhancerBarcode.tsv.gz\n",
    "done"
   ]
  },
  {
   "cell_type": "markdown",
   "metadata": {},
   "source": [
    "Similarly, we will reformat the MPRA barcodes fastq file to a table containing Read ID and CHEQ-seq barcode."
   ]
  },
  {
   "cell_type": "code",
   "execution_count": null,
   "metadata": {},
   "outputs": [],
   "source": [
    "for file in 02.clean_reads/*_R2_Q30.fastq.gz\n",
    "do\n",
    "file_name=`basename ${file}`\n",
    "file_tag=${file_name%_R2_Q30.fastq.gz}\n",
    "echo ${file_tag}\n",
    "paste \\\n",
    "   <( zcat ${file} | mawk 'NR%4==1{print substr($1,2)}' ) \\\n",
    "   <( zcat ${file} | mawk 'NR%4==2' ) \\\n",
    "   | sort -k1 \\\n",
    "   | gzip -c \\\n",
    "   > 03.enhancer_bc_assignment/${file_tag}_readID_CHEQseqBarcode.tsv.gz\n",
    "done"
   ]
  },
  {
   "cell_type": "markdown",
   "metadata": {},
   "source": [
    "Now we will combine these two tables based on Read ID to obtain a table with Read ID, enhancer barcode and MPRA barcode."
   ]
  },
  {
   "cell_type": "code",
   "execution_count": 12,
   "metadata": {},
   "outputs": [],
   "source": [
    "for file in 02.clean_reads/*_R2_Q30.fastq.gz\n",
    "do\n",
    "file_name=`basename ${file}`\n",
    "file_tag=${file_name%_R2_Q30.fastq.gz}\n",
    "awk -F '\\t' -v OFS='\\t' 'FNR==NR{a[$1]=$2 FS $3;next}{ print $0, a[$1]}' \\\n",
    "   <( zcat 03.enhancer_bc_assignment/${file_tag}_readID_enhancerBarcode.tsv.gz ) \\\n",
    "   <( zcat 03.enhancer_bc_assignment/${file_tag}_readID_CHEQseqBarcode.tsv.gz ) \\\n",
    "   | awk  '$3!=\"\"' \\\n",
    "   | cut -f1-3 \\\n",
    "   | gzip -c \\\n",
    "   > 03.enhancer_bc_assignment/${file_tag}_readID_enhancerBC_CHEQseqBC_coupled.tsv.gz\n",
    "done"
   ]
  },
  {
   "cell_type": "markdown",
   "metadata": {},
   "source": [
    "We will link the MPRA enhancer with the original enhancer ID. We have a python script which will link both files based on the enhancer barcode and return a enhancerID-CHEQ-seqBC table (without unassigned MPRA barcodes and MPRA barcodes that are linked to more than one barcode)."
   ]
  },
  {
   "cell_type": "code",
   "execution_count": null,
   "metadata": {},
   "outputs": [],
   "source": [
    "module load Python/3.7.4-GCCcore-6.4.0\n",
    "for file in 03.enhancer_bc_assignment/*_readID_enhancerBC_CHEQseqBC_coupled.tsv.gz\n",
    "do\n",
    "file_name=`basename ${file}`\n",
    "file_tag=${file_name%_readID_enhancerBC_CHEQseqBC_coupled.tsv.gz}\n",
    "echo ${file_tag}\n",
    "${path_scripts}link_cheqseq_bc_to_enhancer_id.py -ebc IVSM_enhancer_to_bc.tsv -rbc ${file} \\\n",
    "                                                 -o 03.enhancer_bc_assignment/${file_tag}_enhancerID_CHEQseqBarcode_coupled.tsv.gz -rthr 10 -cthr 0.95\n",
    "done"
   ]
  },
  {
   "cell_type": "markdown",
   "metadata": {},
   "source": [
    "Create table with BC count per enhancer"
   ]
  },
  {
   "cell_type": "code",
   "execution_count": null,
   "metadata": {},
   "outputs": [],
   "source": [
    "for file in 03.enhancer_bc_assignment/Recovered_MGE__*_enhancerID_CHEQseqBarcode_coupled.tsv.gz\n",
    "do\n",
    "echo ${file#/*}\n",
    "zcat $file | awk '{print $1}' | sort | uniq -c > ${file%*.tsv.gz}BC-count.tsv\n",
    "done"
   ]
  },
  {
   "cell_type": "markdown",
   "metadata": {},
   "source": [
    "Now we can check how many enhancers have been found in the collection (the maximum number is 1288)."
   ]
  },
  {
   "cell_type": "code",
   "execution_count": null,
   "metadata": {},
   "outputs": [],
   "source": [
    "for i in 03.enhancer_bc_assignment/*_enhancerID_CHEQseqBarcode_coupled.tsv.gz\n",
    "do\n",
    "echo ${i##*/}\n",
    "zcat $i | cut -f1 | sort -u | wc -l\n",
    "done"
   ]
  },
  {
   "cell_type": "code",
   "execution_count": null,
   "metadata": {},
   "outputs": [],
   "source": [
    "# Number of enhancers with more than 5 or 10 BC\n",
    "awk 'NR==1 { print } NR != 1 && $1 >= 5 { print }' 03.enhancer_bc_assignment/Recovered_MGE__ba667c__pSA351_lenti5_BC_microglia_enh_BC_enhancerID_CHEQseqBarcode_coupledBC-count.tsv | wc -l\n",
    "awk 'NR==1 { print } NR != 1 && $1 >= 10 { print }' 03.enhancer_bc_assignment/Recovered_MGE__ba667c__pSA351_lenti5_BC_microglia_enh_BC_enhancerID_CHEQseqBarcode_coupledBC-count.tsv | wc -l"
   ]
  },
  {
   "cell_type": "code",
   "execution_count": null,
   "metadata": {},
   "outputs": [],
   "source": [
    "for file in 03.enhancer_bc_assignment/Recovered_MGE__*_enhancerID_CHEQseqBarcode_coupled.tsv.gz\n",
    "do\n",
    "middleBC=$(($(zcat $file | awk '{print $1}'| sort | uniq -c | wc -l)/2))\n",
    "echo ${file#/*}\n",
    "echo \"Number of BC associated to an enhancer: \" $(zcat $file | wc -l)\n",
    "echo \"Enhancer coverage: \" $(zcat $file | awk '{print $1}' | sort -u | wc -l)\n",
    "echo \"Number of enhancers with >= 5 BC\" $(zcat $file | awk '{print $1}' | sort | uniq -c | awk 'NR==1 { print } NR != 1 && $1 >= 5 { print }' | wc -l)\n",
    "echo \"Median number of BC per enhancer: \" $(zcat $file | awk '{print $1}' | sort | uniq -c | awk '{print $1}' | sort -g | sed -n ${middleBC}p)\n",
    "echo \"Number of shuffled regions: \" $(zgrep 'Shuffle' $file | awk '{print $1}' | sort -u | wc -l)\n",
    "done"
   ]
  },
  {
   "cell_type": "markdown",
   "metadata": {},
   "source": [
    "## Step 4: Sequencing saturation"
   ]
  },
  {
   "cell_type": "markdown",
   "metadata": {},
   "source": [
    "The next step is to check the sequencing saturation. For this we compare the number of reads versus the total number of reads, if they are proportional (a straight line) it indicates that we need more sequencing; if it reaches a plateau (the number of unique reads does not increase when increasing the number of reads), then the sample is sufficiently sequenced. First we prepare the files."
   ]
  },
  {
   "cell_type": "code",
   "execution_count": null,
   "metadata": {},
   "outputs": [],
   "source": [
    "# Extract DNA sequences from fastq\n",
    "mkdir 04.sequencing_saturation\n",
    "for file in 02.clean_reads/*_Q30.fastq.gz\n",
    "do\n",
    "file_name=`basename ${file}`\n",
    "file_tag=${file_name%.fastq.gz}\n",
    "echo $file_name\n",
    "zcat $file | sed -n '2~4p' > 04.sequencing_saturation/${file_tag}.txt\n",
    "done"
   ]
  },
  {
   "cell_type": "code",
   "execution_count": null,
   "metadata": {},
   "outputs": [],
   "source": [
    "export LC_ALL=C\n",
    "for file in 04.sequencing_saturation/MGE__*_Q30.txt\n",
    "do\n",
    "file_name=`basename ${file}`\n",
    "file_tag=${file_name%.txt}\n",
    "echo ${file_name}\n",
    "nreads=$(cat $file | wc -l)\n",
    "if test $nreads -gt 10000000\n",
    "then\n",
    "        increment=$(($nreads / 50))\n",
    "else\n",
    "        increment=200000\n",
    "fi\n",
    "    for i in $(seq 0 $increment $nreads)\n",
    "    do\n",
    "     # Print number of total and unique reads for every subsamples\n",
    "    echo \"echo $i \\$(shuf -n $(($i)) $file | sort -u | wc -l) >> 04.sequencing_saturation/${file_tag}_sat.txt\" \\\n",
    "    >> 04.sequencing_saturation/${file_tag}_parallel.txt\n",
    "    done\n",
    "cat 04.sequencing_saturation/${file_tag}_parallel.txt | parallel -j 16\n",
    " # Put values in numerical order\n",
    "cat  04.sequencing_saturation/${file_tag}_sat.txt | sort -g > 04.sequencing_saturation/${file_tag}_satsort.txt && mv 04.sequencing_saturation/${file_tag}_satsort.txt 04.sequencing_saturation/${file_tag}_sat.txt\n",
    "done"
   ]
  },
  {
   "cell_type": "markdown",
   "metadata": {},
   "source": [
    "To create the plots we can use a python script."
   ]
  },
  {
   "cell_type": "code",
   "execution_count": 5,
   "metadata": {},
   "outputs": [],
   "source": [
    "module load Python/3.7.4-GCCcore-6.4.0\n",
    "${path_scripts}plot_saturation.py -ssd 04.sequencing_saturation -r _sat.txt --ncol 2 --nrow 2"
   ]
  }
 ],
 "metadata": {
  "kernelspec": {
   "display_name": "Bash (ipykernel)",
   "language": "bash",
   "name": "bash"
  },
  "language_info": {
   "codemirror_mode": "shell",
   "file_extension": ".sh",
   "mimetype": "text/x-sh",
   "name": "bash"
  }
 },
 "nbformat": 4,
 "nbformat_minor": 4
}
